{
 "cells": [
  {
   "cell_type": "markdown",
   "metadata": {},
   "source": [
    "# Tensor basics"
   ]
  },
  {
   "cell_type": "code",
   "execution_count": 2,
   "metadata": {},
   "outputs": [],
   "source": [
    "import numpy as np\n",
    "import torch\n",
    "import matplotlib.pyplot as plt"
   ]
  },
  {
   "cell_type": "code",
   "execution_count": 3,
   "metadata": {},
   "outputs": [
    {
     "data": {
      "text/plain": [
       "'1.9.1+cpu'"
      ]
     },
     "execution_count": 3,
     "metadata": {},
     "output_type": "execute_result"
    }
   ],
   "source": [
    "~/Anaconda3/envs/pytorchenv/"
   ]
  },
  {
   "cell_type": "code",
   "execution_count": 5,
   "metadata": {},
   "outputs": [
    {
     "data": {
      "text/plain": [
       "(tensor([1, 2, 3, 4, 5], dtype=torch.int32), torch.Tensor)"
      ]
     },
     "execution_count": 5,
     "metadata": {},
     "output_type": "execute_result"
    }
   ],
   "source": [
    "# create tensor from numpy arrays\n",
    "tensor1 = torch.from_numpy(np.array([1,2,3,4,5])) \n",
    "# or use torch.as_tensor -> both shallow copy (not advisable)\n",
    "tensor1, type(tensor1)"
   ]
  },
  {
   "cell_type": "code",
   "execution_count": 12,
   "metadata": {},
   "outputs": [
    {
     "data": {
      "text/plain": [
       "tensor([[ 2.0000,  2.4000,  2.8000,  3.2000,  3.6000,  4.0000,  4.4000,  4.8000,\n",
       "          5.2000],\n",
       "        [ 5.6000,  6.0000,  6.4000,  6.8000,  7.2000,  7.6000,  8.0000,  8.4000,\n",
       "          8.8000],\n",
       "        [ 9.2000,  9.6000, 10.0000, 10.4000, 10.8000, 11.2000, 11.6000, 12.0000,\n",
       "         12.4000],\n",
       "        [12.8000, 13.2000, 13.6000, 14.0000, 14.4000, 14.8000, 15.2000, 15.6000,\n",
       "         16.0000],\n",
       "        [16.4000, 16.8000, 17.2000, 17.6000, 18.0000, 18.4000, 18.8000, 19.2000,\n",
       "         19.6000]], dtype=torch.float64)"
      ]
     },
     "execution_count": 12,
     "metadata": {},
     "output_type": "execute_result"
    }
   ],
   "source": [
    "## create deepcopy using torch.tensor\n",
    "arr = np.arange(2,20,0.4).reshape(5, 9)\n",
    "tensor2 = torch.tensor(arr)\n",
    "tensor2"
   ]
  },
  {
   "cell_type": "code",
   "execution_count": 14,
   "metadata": {},
   "outputs": [
    {
     "data": {
      "text/plain": [
       "(torch.float64, torch.float32)"
      ]
     },
     "execution_count": 14,
     "metadata": {},
     "output_type": "execute_result"
    }
   ],
   "source": [
    "# Note torch.Tensor typecasts tensor into float32 values\n",
    "# torch.tensor retains/infers from original dtype\n",
    "tensor2.dtype, torch.Tensor(arr).dtype"
   ]
  },
  {
   "cell_type": "code",
   "execution_count": 17,
   "metadata": {},
   "outputs": [
    {
     "data": {
      "text/plain": [
       "tensor([[9.1477e-41, 0.0000e+00]])"
      ]
     },
     "execution_count": 17,
     "metadata": {},
     "output_type": "execute_result"
    }
   ],
   "source": [
    "# torch.empty prepares tensor with values close to 0\n",
    "# torch.zeros prepares actual 0 matrix\n",
    "torch.empty(1,2)"
   ]
  },
  {
   "cell_type": "code",
   "execution_count": 21,
   "metadata": {},
   "outputs": [
    {
     "name": "stdout",
     "output_type": "stream",
     "text": [
      "tensor([0, 2])\n",
      "tensor([[ 0.0000,  2.4286],\n",
      "        [ 4.8571,  7.2857],\n",
      "        [ 9.7143, 12.1429],\n",
      "        [14.5714, 17.0000]])\n"
     ]
    }
   ],
   "source": [
    "# like np.arange\n",
    "print(torch.arange(0, 4, 2))\n",
    "\n",
    "# like np.linspace and reshape\n",
    "print(torch.linspace(0, 17, 8).reshape(4, 2))"
   ]
  },
  {
   "cell_type": "code",
   "execution_count": 45,
   "metadata": {},
   "outputs": [
    {
     "name": "stdout",
     "output_type": "stream",
     "text": [
      "tensor([[12,  7],\n",
      "        [16, 13],\n",
      "        [13,  6],\n",
      "        [15,  1],\n",
      "        [13,  7]])\n"
     ]
    }
   ],
   "source": [
    "# if we want random matrix between given values and arrange by desired size\n",
    "a = torch.randint(0, 20, (5, 2))\n",
    "print(a)"
   ]
  },
  {
   "cell_type": "code",
   "execution_count": 28,
   "metadata": {},
   "outputs": [
    {
     "name": "stdout",
     "output_type": "stream",
     "text": [
      "tensor([[0.2126, 0.5662, 0.9712],\n",
      "        [0.6141, 0.7440, 0.0595],\n",
      "        [0.2074, 0.2537, 0.7231],\n",
      "        [0.5215, 0.5067, 0.1733]])\n",
      "tensor([[-0.9698,  1.7381, -0.0359],\n",
      "        [ 0.8739, -1.2119,  0.5342],\n",
      "        [-0.6619,  0.2779,  0.3139],\n",
      "        [-0.1882,  0.3564, -0.0041]])\n"
     ]
    },
    {
     "data": {
      "text/plain": [
       "[<matplotlib.lines.Line2D at 0x24e1b6ef430>,\n",
       " <matplotlib.lines.Line2D at 0x24e1b6ef3d0>,\n",
       " <matplotlib.lines.Line2D at 0x24e1b6ef580>,\n",
       " <matplotlib.lines.Line2D at 0x24e1b6ef6a0>]"
      ]
     },
     "execution_count": 28,
     "metadata": {},
     "output_type": "execute_result"
    },
    {
     "data": {
      "image/png": "[encoded data removed]",
      "text/plain": [
       "<Figure size 432x288 with 1 Axes>"
      ]
     },
     "metadata": {
      "needs_background": "light"
     },
     "output_type": "display_data"
    }
   ],
   "source": [
    "# generate 4x3 random matrix between 0 and 1\n",
    "print(torch.rand(4, 3))\n",
    "\n",
    "# generate 4x3 random gaussian matrix between 0 and 1\n",
    "normalized_arr = torch.randn(4, 3)\n",
    "print(normalized_arr)\n",
    "plt.plot(normalized_arr.T)"
   ]
  },
  {
   "cell_type": "code",
   "execution_count": 4,
   "metadata": {},
   "outputs": [
    {
     "name": "stdout",
     "output_type": "stream",
     "text": [
      "tensor([-1,  2,  5,  8, 11, 14]) tensor([-1,  0,  1,  2,  3,  4]) tensor([  -1,    1,    3,   25,  343, 6561]) tensor([-1,  2,  5,  8, 11, 14]) tensor([  -1,    1,    3,   25,  343, 6561]) tensor([  -1,    1,    3,   25,  343, 6561])\n"
     ]
    }
   ],
   "source": [
    "# add_ inplace addition of tensor\n",
    "a = torch.arange(6)\n",
    "b = torch.arange(-1, 5)\n",
    "c = a.add(b)\n",
    "print(a, b, c, a.add_(c), c.pow_(b), c)\n"
   ]
  },
  {
   "cell_type": "code",
   "execution_count": 5,
   "metadata": {},
   "outputs": [
    {
     "data": {
      "text/plain": [
       "(2, 6)"
      ]
     },
     "execution_count": 5,
     "metadata": {},
     "output_type": "execute_result"
    }
   ],
   "source": [
    "## Length of matrix is different from number of elements for matrices\n",
    "a = a.reshape(2, 3)\n",
    "len(a), a.numel()"
   ]
  },
  {
   "cell_type": "code",
   "execution_count": 5,
   "metadata": {},
   "outputs": [
    {
     "data": {
      "text/plain": [
       "tensor([[ 0,  5, 10],\n",
       "        [15, 20, 25]])"
      ]
     },
     "execution_count": 5,
     "metadata": {},
     "output_type": "execute_result"
    }
   ],
   "source": [
    "a=torch.arange(0, 30, 5)\n",
    "a.reshape(2,3)"
   ]
  },
  {
   "cell_type": "code",
   "execution_count": null,
   "metadata": {},
   "outputs": [],
   "source": []
  }
 ],
 "metadata": {
  "kernelspec": {
   "display_name": "pytorchenv",
   "language": "python",
   "name": "python3"
  },
  "language_info": {
   "codemirror_mode": {
    "name": "ipython",
    "version": 3
   },
   "file_extension": ".py",
   "mimetype": "text/x-python",
   "name": "python",
   "nbconvert_exporter": "python",
   "pygments_lexer": "ipython3",
   "version": "3.8.0"
  }
 },
 "nbformat": 4,
 "nbformat_minor": 2
}
