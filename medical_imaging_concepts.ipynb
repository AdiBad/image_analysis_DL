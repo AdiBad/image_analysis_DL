{
 "cells": [
  {
   "cell_type": "markdown",
   "metadata": {},
   "source": [
    "## medical imaging intro"
   ]
  },
  {
   "cell_type": "markdown",
   "metadata": {},
   "source": [
    "spatially resolved images of the body like radiography, MRI, ultrasound\n",
    "\n",
    "uses:\n",
    "1. therapy\n",
    "2. disease diagnosis\n",
    "3. image guided intervention\n",
    "\n",
    "when we say right lung in image, it is left for the patient\n",
    "\n",
    "3 planes of diagnosis:\n",
    "1. axial/transversal (cut across waist)\n",
    "2. frontal/coronal (face front)\n",
    "3. sagittal (cut from nose to toes)\n"
   ]
  },
  {
   "cell_type": "markdown",
   "metadata": {},
   "source": [
    "# examples\n",
    "\n",
    "1. x ray (projectional radiography)\n",
    "```\n",
    "projected x ray source, image is created from the unabsrobed spectra\n",
    "2D scanner (pixel unit)\n",
    "ionizing radiation\n",
    "```\n",
    "2. computed tomography\n",
    "\n",
    "CT-scan (cross sectional radiography)\n",
    "\n",
    "```\n",
    "x ray source and detector revolve around patient\n",
    "3D scan (voxel (3d pixel) unit)\n",
    "few seconds to take pic\n",
    "ionizing radiation\n",
    "```\n",
    "\n",
    "image intensity seen on the final x ray sheet are given Hounsefield units <br>where for reference, water has 0 HU and air has -1000 HU\n",
    "\n",
    "high x ray absorption = high signal intensity values\n",
    "\n",
    "for eg spine will have more bright pic in x ray die to higher absorption compared to lungs\n",
    "\n",
    "much more reliable and confident picture of injury in bone as compared to 2D xray\n",
    "\n",
    "3. MRI (magnetic resonance imaging)\n",
    "\n",
    "```\n",
    "high complex modality: images (2d, 3d)\n",
    "excitation of protons in body, strong magentic field, subsequent measurement of emitted electromagentic waves\n",
    "takes hours\n",
    "non ionizing radiation\n",
    "```\n",
    "image intensity values are relative for each person, unique\n",
    "\n",
    "4. positron electron microscopy\n",
    "\n",
    "radioactive tracer injected in patient, then detected by hybrid modality (mobile table, scanner, several minutes long)\n",
    "> measure accumulation of tracer\n",
    "\n",
    "> dependent on absorption (absolute values) that can be standardized to compare across different parts of the body or even other patients\n",
    "\n",
    "> specific tracer -> different image contrast\n",
    "\n",
    "used for imaging inflammation or cancer or neuroimaging"
   ]
  },
  {
   "cell_type": "markdown",
   "metadata": {},
   "source": [
    "# DICOM (digital imaging and communications in medicine)\n",
    "> mainly used in hospitals\n",
    "\n",
    "```\n",
    "\n",
    "# international standard for storing medical images\n",
    "# it is a format of file and metadata\n",
    "# structure:\n",
    "# header\n",
    "# - dev info (modality (CT/MRI/PET/X ray)/scanenr info)\n",
    "# - patient info\n",
    "# - image info (shape), etc\n",
    "# body\n",
    "# - actual pixel data (2D/ 3D)\n",
    "```\n",
    "\n",
    "any private vendors store this info internally in DICOM in different format and tags, so onus of interpretation is on clinician and the developer\n",
    "\n"
   ]
  },
  {
   "cell_type": "markdown",
   "metadata": {},
   "source": [
    "## NiFTI (neuroimaging informatics technology initiative)\n",
    " > mainly used in RnD\n",
    "\n",
    " not a clinical standard\n",
    "\n",
    " structure: header (small, image res and orientation info) + body (image pixel data)\n",
    "\n",
    " "
   ]
  },
  {
   "cell_type": "markdown",
   "metadata": {},
   "source": [
    "# Why preprocess data\n",
    "1. ML methods require certain type of input (4k images we are not string enough infra)\n",
    "2. normalize based on modality (tech used)\n",
    "    > denoise <br>\n",
    "    > reconstruct parts of image (algo development) <br>\n",
    "    > quantification\n",
    "3. orientation of data\n",
    "    > data array axis should correspond correctly with physical dimsensions <br>\n",
    "4. resampling\n",
    "    > reduce size of data (including padding. cropping)\n",
    "\n",
    "## More on normalization\n",
    "\n",
    "convert signal values in specific interval (for eg with MRI we normalize and standardize (different for different people, as well as region specific differences) whereas with contrast scans (CT) we only standardize per dataset)\n",
    "\n",
    "\n",
    "modality specific preprocessing:\n",
    "1. X ray -> standardize (x/255) and z-normalize\n",
    "2. CT -> task specific preprocess (cropping, windowing->contrast fixing), standardize (x/3071)\n",
    "3. MRI -> cropping, min-max scaling (standardize) and z-normalize\n",
    "4. PET -> log scale preprocessing, clip values [20-40]\n",
    "5. ultrasound -> 1/255 standardize, z-normlaize\n",
    "\n",
    "DICOM may not allow multidimesnional data so we should convert it to nifti, nrrd, hdf5 or numpy format for further ML\n"
   ]
  },
  {
   "cell_type": "markdown",
   "metadata": {},
   "source": [
    "## physical traits\n",
    "voxel coordinate [i.j.k] in milimeters can be mapped to physical space using affine mapping\n",
    "> X(physical) = X(voxel).A(3x3 affine matrix) +X(linear matrix)\n",
    "\n",
    "this allows scaling, rotation and tilting (shearing)\n"
   ]
  },
  {
   "cell_type": "markdown",
   "metadata": {},
   "source": []
  },
  {
   "cell_type": "markdown",
   "metadata": {},
   "source": []
  }
 ],
 "metadata": {
  "kernelspec": {
   "display_name": "pytorchenv",
   "language": "python",
   "name": "python3"
  },
  "language_info": {
   "codemirror_mode": {
    "name": "ipython",
    "version": 3
   },
   "file_extension": ".py",
   "mimetype": "text/x-python",
   "name": "python",
   "nbconvert_exporter": "python",
   "pygments_lexer": "ipython3",
   "version": "3.8.0"
  }
 },
 "nbformat": 4,
 "nbformat_minor": 2
}
